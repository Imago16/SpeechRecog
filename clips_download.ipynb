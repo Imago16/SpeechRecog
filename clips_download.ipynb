{
 "cells": [
  {
   "cell_type": "code",
   "execution_count": 2,
   "id": "c2879e4e",
   "metadata": {},
   "outputs": [],
   "source": [
    "import yt_dlp\n",
    "from pydub import AudioSegment\n",
    "import os\n",
    "import math\n",
    "\n",
    "AudioSegment.converter = r\"C:\\Users\\regdi\\Downloads\\ffmpeg-2025-05-12-git-8ce32a7cbb-full_build\\ffmpeg-2025-05-12-git-8ce32a7cbb-full_build\\bin\\ffmpeg.exe\""
   ]
  },
  {
   "cell_type": "code",
   "execution_count": 10,
   "id": "e869c500",
   "metadata": {},
   "outputs": [],
   "source": [
    "def download_audio_section(youtube_url, start_time, duration, emotion, output_dir=\"output\"):\n",
    "    os.makedirs(output_dir, exist_ok=True)\n",
    "    \n",
    "    # Filename must end with .%(ext)s so yt-dlp replaces it properly\n",
    "    temp_filename = os.path.join(output_dir, \"temp_audio.%(ext)s\")\n",
    "    actual_temp_wav = os.path.join(output_dir, \"temp_audio.wav\")\n",
    "\n",
    "    ydl_opts = {\n",
    "        'format': 'bestaudio/best',\n",
    "        'outtmpl': temp_filename,\n",
    "        'postprocessors': [{\n",
    "            'key': 'FFmpegExtractAudio',\n",
    "            'preferredcodec': 'wav',\n",
    "        }],\n",
    "        'quiet': True,\n",
    "    }\n",
    "\n",
    "    print(f\"Downloading audio...\")\n",
    "    with yt_dlp.YoutubeDL(ydl_opts) as ydl:\n",
    "        ydl.download([youtube_url])\n",
    "\n",
    "    if not os.path.exists(actual_temp_wav):\n",
    "        raise FileNotFoundError(f\"Expected file not found: {actual_temp_wav}\")\n",
    "    \n",
    "    # Load and trim\n",
    "    audio = AudioSegment.from_wav(actual_temp_wav)\n",
    "    trimmed = audio[start_time * 1000 : (start_time + duration) * 1000]\n",
    "\n",
    "    segment_length_ms = 2500  # 2.5 seconds\n",
    "    num_segments = math.ceil(len(trimmed) / segment_length_ms)\n",
    "\n",
    "    for i in range(num_segments):\n",
    "        start = i * segment_length_ms\n",
    "        end = min((i + 1) * segment_length_ms, len(trimmed))\n",
    "        chunk = trimmed[start:end]\n",
    "        filename = f\"{emotion}_{i+1}.wav\"\n",
    "        chunk.export(os.path.join(output_dir, filename), format=\"wav\")\n",
    "        print(f\"Saved {filename}\")\n",
    "\n",
    "    os.remove(actual_temp_wav)\n"
   ]
  },
  {
   "cell_type": "markdown",
   "id": "c3f748db",
   "metadata": {},
   "source": [
    "# TV Patrol - Neutral"
   ]
  },
  {
   "cell_type": "code",
   "execution_count": 4,
   "id": "48482c2d",
   "metadata": {},
   "outputs": [
    {
     "name": "stdout",
     "output_type": "stream",
     "text": [
      "Downloading 60s from 340s...\n",
      "Saved neutral_1.wav          \n",
      "Saved neutral_2.wav\n",
      "Saved neutral_3.wav\n",
      "Saved neutral_4.wav\n",
      "Saved neutral_5.wav\n",
      "Saved neutral_6.wav\n",
      "Saved neutral_7.wav\n",
      "Saved neutral_8.wav\n",
      "Saved neutral_9.wav\n",
      "Saved neutral_10.wav\n",
      "Saved neutral_11.wav\n",
      "Saved neutral_12.wav\n",
      "Saved neutral_13.wav\n",
      "Saved neutral_14.wav\n",
      "Saved neutral_15.wav\n",
      "Saved neutral_16.wav\n",
      "Saved neutral_17.wav\n",
      "Saved neutral_18.wav\n",
      "Saved neutral_19.wav\n",
      "Saved neutral_20.wav\n",
      "Saved neutral_21.wav\n",
      "Saved neutral_22.wav\n",
      "Saved neutral_23.wav\n",
      "Saved neutral_24.wav\n"
     ]
    }
   ],
   "source": [
    "download_audio_section(\n",
    "    youtube_url=\"https://www.youtube.com/watch?v=bbrTcAsYlP8\",\n",
    "    start_time=340,        # Start at 30 seconds\n",
    "    duration=60,          # Clip 10 seconds of audio\n",
    "    emotion=\"neutral\"       # Prefix label\n",
    ")\n"
   ]
  },
  {
   "cell_type": "markdown",
   "id": "c98941f0",
   "metadata": {},
   "source": [
    "# Sara Outburst - Angry"
   ]
  },
  {
   "cell_type": "code",
   "execution_count": 11,
   "id": "67eb18af",
   "metadata": {},
   "outputs": [
    {
     "name": "stdout",
     "output_type": "stream",
     "text": [
      "Downloading audio...\n",
      "Saved angry_1.wav                                          \n",
      "Saved angry_2.wav\n",
      "Saved angry_3.wav\n",
      "Saved angry_4.wav\n",
      "Saved angry_5.wav\n",
      "Saved angry_6.wav\n",
      "Saved angry_7.wav\n",
      "Saved angry_8.wav\n",
      "Saved angry_9.wav\n",
      "Saved angry_10.wav\n",
      "Saved angry_11.wav\n",
      "Saved angry_12.wav\n",
      "Saved angry_13.wav\n",
      "Saved angry_14.wav\n",
      "Saved angry_15.wav\n",
      "Saved angry_16.wav\n",
      "Saved angry_17.wav\n",
      "Saved angry_18.wav\n",
      "Saved angry_19.wav\n",
      "Saved angry_20.wav\n",
      "Saved angry_21.wav\n",
      "Saved angry_22.wav\n",
      "Saved angry_23.wav\n",
      "Saved angry_24.wav\n"
     ]
    }
   ],
   "source": [
    "download_audio_section(\n",
    "    youtube_url=\"https://www.youtube.com/watch?v=mOjLH2Sl_Y8\",\n",
    "    start_time=430,        # Start at 30 seconds\n",
    "    duration=60,          # Clip 10 seconds of audio\n",
    "    emotion=\"angry\"       # Prefix label\n",
    ")\n"
   ]
  },
  {
   "cell_type": "markdown",
   "id": "52a23675",
   "metadata": {},
   "source": [
    "# Kathryn Scene - Sad"
   ]
  },
  {
   "cell_type": "code",
   "execution_count": 14,
   "id": "57de0544",
   "metadata": {},
   "outputs": [
    {
     "name": "stdout",
     "output_type": "stream",
     "text": [
      "Downloading audio...\n",
      "Saved sad_1.wav                                            \n",
      "Saved sad_2.wav\n",
      "Saved sad_3.wav\n",
      "Saved sad_4.wav\n",
      "Saved sad_5.wav\n",
      "Saved sad_6.wav\n",
      "Saved sad_7.wav\n",
      "Saved sad_8.wav\n",
      "Saved sad_9.wav\n",
      "Saved sad_10.wav\n",
      "Saved sad_11.wav\n",
      "Saved sad_12.wav\n",
      "Saved sad_13.wav\n",
      "Saved sad_14.wav\n",
      "Saved sad_15.wav\n",
      "Saved sad_16.wav\n",
      "Saved sad_17.wav\n",
      "Saved sad_18.wav\n",
      "Saved sad_19.wav\n",
      "Saved sad_20.wav\n",
      "Saved sad_21.wav\n",
      "Saved sad_22.wav\n",
      "Saved sad_23.wav\n",
      "Saved sad_24.wav\n"
     ]
    }
   ],
   "source": [
    "download_audio_section(\n",
    "    youtube_url=\"https://www.youtube.com/watch?v=wgcZRUCE38g\",\n",
    "    start_time=163,        # Start at 30 seconds\n",
    "    duration=60,          # Clip 10 seconds of audio\n",
    "    emotion=\"sad\"       # Prefix label\n",
    ")\n"
   ]
  },
  {
   "cell_type": "markdown",
   "id": "0a71c4cf",
   "metadata": {},
   "source": [
    "# Its' Showtime - Happy"
   ]
  },
  {
   "cell_type": "code",
   "execution_count": 15,
   "id": "021ef3e3",
   "metadata": {},
   "outputs": [
    {
     "name": "stdout",
     "output_type": "stream",
     "text": [
      "Downloading audio...\n"
     ]
    },
    {
     "name": "stdout",
     "output_type": "stream",
     "text": [
      "Saved happy_1.wav                                          \n",
      "Saved happy_2.wav\n",
      "Saved happy_3.wav\n",
      "Saved happy_4.wav\n",
      "Saved happy_5.wav\n",
      "Saved happy_6.wav\n",
      "Saved happy_7.wav\n",
      "Saved happy_8.wav\n",
      "Saved happy_9.wav\n",
      "Saved happy_10.wav\n",
      "Saved happy_11.wav\n",
      "Saved happy_12.wav\n",
      "Saved happy_13.wav\n",
      "Saved happy_14.wav\n",
      "Saved happy_15.wav\n",
      "Saved happy_16.wav\n",
      "Saved happy_17.wav\n",
      "Saved happy_18.wav\n",
      "Saved happy_19.wav\n",
      "Saved happy_20.wav\n",
      "Saved happy_21.wav\n",
      "Saved happy_22.wav\n",
      "Saved happy_23.wav\n",
      "Saved happy_24.wav\n"
     ]
    }
   ],
   "source": [
    "download_audio_section(\n",
    "    youtube_url=\"https://www.youtube.com/watch?v=V4cOIZT2qO4\",\n",
    "    start_time=0,        # Start at 30 seconds\n",
    "    duration=60,          # Clip 10 seconds of audio\n",
    "    emotion=\"happy\"       # Prefix label\n",
    ")\n"
   ]
  },
  {
   "cell_type": "markdown",
   "id": "821dfdbe",
   "metadata": {},
   "source": [
    "# Kris Aquino - Feng Shui"
   ]
  },
  {
   "cell_type": "code",
   "execution_count": null,
   "id": "da35e99f",
   "metadata": {},
   "outputs": [
    {
     "name": "stdout",
     "output_type": "stream",
     "text": [
      "Downloading audio...\n",
      "Saved fear_1.wav                                           \n",
      "Saved fear_2.wav\n",
      "Saved fear_3.wav\n",
      "Saved fear_4.wav\n",
      "Saved fear_5.wav\n",
      "Saved fear_6.wav\n",
      "Saved fear_7.wav\n",
      "Saved fear_8.wav\n",
      "Saved fear_9.wav\n",
      "Saved fear_10.wav\n",
      "Saved fear_11.wav\n",
      "Saved fear_12.wav\n",
      "Saved fear_13.wav\n",
      "Saved fear_14.wav\n",
      "Saved fear_15.wav\n",
      "Saved fear_16.wav\n",
      "Saved fear_17.wav\n",
      "Saved fear_18.wav\n",
      "Saved fear_19.wav\n",
      "Saved fear_20.wav\n",
      "Saved fear_21.wav\n",
      "Saved fear_22.wav\n",
      "Saved fear_23.wav\n",
      "Saved fear_24.wav\n"
     ]
    }
   ],
   "source": [
    "download_audio_section(\n",
    "    youtube_url=\"https://www.youtube.com/watch?v=pka7ewZ6GPg&t=5733s\",\n",
    "    start_time=5673,        # Start at 30 seconds\n",
    "    duration=60,          # Clip 10 seconds of audio\n",
    "    emotion=\"fear\"       # Prefix label\n",
    ")"
   ]
  },
  {
   "cell_type": "markdown",
   "id": "901afa47",
   "metadata": {},
   "source": [
    "# Zeinab Surprise - Birthday"
   ]
  },
  {
   "cell_type": "code",
   "execution_count": 17,
   "id": "ce87178d",
   "metadata": {},
   "outputs": [
    {
     "name": "stdout",
     "output_type": "stream",
     "text": [
      "Downloading audio...\n",
      "Saved surprise_1.wav                                       \n",
      "Saved surprise_2.wav\n",
      "Saved surprise_3.wav\n",
      "Saved surprise_4.wav\n",
      "Saved surprise_5.wav\n",
      "Saved surprise_6.wav\n",
      "Saved surprise_7.wav\n",
      "Saved surprise_8.wav\n",
      "Saved surprise_9.wav\n",
      "Saved surprise_10.wav\n",
      "Saved surprise_11.wav\n",
      "Saved surprise_12.wav\n",
      "Saved surprise_13.wav\n",
      "Saved surprise_14.wav\n",
      "Saved surprise_15.wav\n",
      "Saved surprise_16.wav\n",
      "Saved surprise_17.wav\n",
      "Saved surprise_18.wav\n",
      "Saved surprise_19.wav\n",
      "Saved surprise_20.wav\n",
      "Saved surprise_21.wav\n",
      "Saved surprise_22.wav\n",
      "Saved surprise_23.wav\n",
      "Saved surprise_24.wav\n"
     ]
    }
   ],
   "source": [
    "download_audio_section(\n",
    "    youtube_url=\"https://www.youtube.com/watch?v=zvGbkeLFH9U\",\n",
    "    start_time=591,        # Start at 30 seconds\n",
    "    duration=60,          # Clip 10 seconds of audio\n",
    "    emotion=\"surprise\"       # Prefix label\n",
    ")"
   ]
  }
 ],
 "metadata": {
  "kernelspec": {
   "display_name": "latest",
   "language": "python",
   "name": "python3"
  },
  "language_info": {
   "codemirror_mode": {
    "name": "ipython",
    "version": 3
   },
   "file_extension": ".py",
   "mimetype": "text/x-python",
   "name": "python",
   "nbconvert_exporter": "python",
   "pygments_lexer": "ipython3",
   "version": "3.12.4"
  }
 },
 "nbformat": 4,
 "nbformat_minor": 5
}
